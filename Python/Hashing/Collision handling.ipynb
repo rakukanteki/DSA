{
 "cells": [
  {
   "cell_type": "code",
   "execution_count": 58,
   "id": "947fd099",
   "metadata": {},
   "outputs": [],
   "source": [
    "class HashTable:\n",
    "    def __init__(self):\n",
    "        self.MAX = 100\n",
    "        # all elements initially set to None\n",
    "        self.arr = [[] for i in range(self.MAX)]  # List comprehension.\n",
    "    \n",
    "    def get_hash(self,key):\n",
    "        h = 0\n",
    "        for char in key:\n",
    "            h += ord(char)  # ord() finds the ASCII value for each character.\n",
    "        return h % self.MAX\n",
    "    \n",
    "    # Creating a function to add an item into Hash Map and get an item from Hash Map.\n",
    "    # In the csv file we have a date and a price. Means we have key value pairs.\n",
    "    # Implementing linked list.\n",
    "    def __setitem__(self, key, value):\n",
    "        h = self.get_hash(key)\n",
    "        found = False\n",
    "        # If element already exists.\n",
    "        for index, element in enumerate(self.arr[h]): \n",
    "        # This line iterates through each element in the list at the hashed index h\n",
    "            if len(element) == 2 and element[0] == key:\n",
    "            # if the current element in the list is a key-value pair (len(element) == 2) and \n",
    "            # if the key of that pair matches the given key.if the current element in the list is a key-value pair (len(element) == 2) and \n",
    "            #if the key of that pair matches the given key.\n",
    "                self.arr[h][index] = (key, value)\n",
    "                # If the key is found, this line updates the corresponding value of the key-value pair with the new value.\n",
    "                found = True\n",
    "                break\n",
    "        # If the key doesn't exist in that linked list.\n",
    "        if not found:\n",
    "            self.arr[h].append((key,value))\n",
    "    \n",
    "    def __getitem__(self, key):\n",
    "        h = self.get_hash(key)\n",
    "        # To get the value, we iterate.\n",
    "        for element in self.arr[h]:\n",
    "            if element[0] == key:\n",
    "                return element[1]\n",
    "    \n",
    "    def __delitem__(self, key):\n",
    "        h = self.get_hash(key)\n",
    "        for index, element in enumerate(self.arr[h]):\n",
    "            if element[0] == key:\n",
    "                del self.arr[h][index]"
   ]
  },
  {
   "cell_type": "code",
   "execution_count": 59,
   "id": "ed574535",
   "metadata": {},
   "outputs": [],
   "source": [
    "tb = HashTable()"
   ]
  },
  {
   "cell_type": "code",
   "execution_count": 60,
   "id": "c0bdc2e2",
   "metadata": {},
   "outputs": [],
   "source": [
    "tb['march 6'] = 120\n",
    "tb['march 6'] = 78\n",
    "tb['march 8'] = 67\n",
    "tb['march 9'] = 4\n",
    "tb['march 17'] = 459"
   ]
  },
  {
   "cell_type": "code",
   "execution_count": 61,
   "id": "76f6da7a",
   "metadata": {},
   "outputs": [
    {
     "data": {
      "text/plain": [
       "78"
      ]
     },
     "execution_count": 61,
     "metadata": {},
     "output_type": "execute_result"
    }
   ],
   "source": [
    "tb['march 6']"
   ]
  },
  {
   "cell_type": "code",
   "execution_count": 62,
   "id": "6aafd667",
   "metadata": {},
   "outputs": [
    {
     "data": {
      "text/plain": [
       "[[],\n",
       " [],\n",
       " [],\n",
       " [],\n",
       " [],\n",
       " [],\n",
       " [],\n",
       " [],\n",
       " [],\n",
       " [('march 6', 78)],\n",
       " [],\n",
       " [('march 8', 67)],\n",
       " [('march 9', 4)],\n",
       " [],\n",
       " [],\n",
       " [],\n",
       " [],\n",
       " [],\n",
       " [],\n",
       " [],\n",
       " [],\n",
       " [],\n",
       " [],\n",
       " [],\n",
       " [],\n",
       " [],\n",
       " [],\n",
       " [],\n",
       " [],\n",
       " [],\n",
       " [],\n",
       " [],\n",
       " [],\n",
       " [],\n",
       " [],\n",
       " [],\n",
       " [],\n",
       " [],\n",
       " [],\n",
       " [],\n",
       " [],\n",
       " [],\n",
       " [],\n",
       " [],\n",
       " [],\n",
       " [],\n",
       " [],\n",
       " [],\n",
       " [],\n",
       " [],\n",
       " [],\n",
       " [],\n",
       " [],\n",
       " [],\n",
       " [],\n",
       " [],\n",
       " [],\n",
       " [],\n",
       " [],\n",
       " [('march 17', 459)],\n",
       " [],\n",
       " [],\n",
       " [],\n",
       " [],\n",
       " [],\n",
       " [],\n",
       " [],\n",
       " [],\n",
       " [],\n",
       " [],\n",
       " [],\n",
       " [],\n",
       " [],\n",
       " [],\n",
       " [],\n",
       " [],\n",
       " [],\n",
       " [],\n",
       " [],\n",
       " [],\n",
       " [],\n",
       " [],\n",
       " [],\n",
       " [],\n",
       " [],\n",
       " [],\n",
       " [],\n",
       " [],\n",
       " [],\n",
       " [],\n",
       " [],\n",
       " [],\n",
       " [],\n",
       " [],\n",
       " [],\n",
       " [],\n",
       " [],\n",
       " [],\n",
       " [],\n",
       " []]"
      ]
     },
     "execution_count": 62,
     "metadata": {},
     "output_type": "execute_result"
    }
   ],
   "source": [
    "tb.arr"
   ]
  },
  {
   "cell_type": "code",
   "execution_count": 63,
   "id": "778555b8",
   "metadata": {},
   "outputs": [
    {
     "data": {
      "text/plain": [
       "78"
      ]
     },
     "execution_count": 63,
     "metadata": {},
     "output_type": "execute_result"
    }
   ],
   "source": [
    "tb['march 6']"
   ]
  },
  {
   "cell_type": "code",
   "execution_count": 57,
   "id": "ae795ad3",
   "metadata": {},
   "outputs": [
    {
     "data": {
      "text/plain": [
       "459"
      ]
     },
     "execution_count": 57,
     "metadata": {},
     "output_type": "execute_result"
    }
   ],
   "source": [
    "tb['march 17']"
   ]
  },
  {
   "cell_type": "code",
   "execution_count": 64,
   "id": "3eb700df",
   "metadata": {},
   "outputs": [],
   "source": [
    "del tb['march 17']"
   ]
  },
  {
   "cell_type": "code",
   "execution_count": 65,
   "id": "f1eb11cd",
   "metadata": {},
   "outputs": [
    {
     "data": {
      "text/plain": [
       "[[],\n",
       " [],\n",
       " [],\n",
       " [],\n",
       " [],\n",
       " [],\n",
       " [],\n",
       " [],\n",
       " [],\n",
       " [('march 6', 78)],\n",
       " [],\n",
       " [('march 8', 67)],\n",
       " [('march 9', 4)],\n",
       " [],\n",
       " [],\n",
       " [],\n",
       " [],\n",
       " [],\n",
       " [],\n",
       " [],\n",
       " [],\n",
       " [],\n",
       " [],\n",
       " [],\n",
       " [],\n",
       " [],\n",
       " [],\n",
       " [],\n",
       " [],\n",
       " [],\n",
       " [],\n",
       " [],\n",
       " [],\n",
       " [],\n",
       " [],\n",
       " [],\n",
       " [],\n",
       " [],\n",
       " [],\n",
       " [],\n",
       " [],\n",
       " [],\n",
       " [],\n",
       " [],\n",
       " [],\n",
       " [],\n",
       " [],\n",
       " [],\n",
       " [],\n",
       " [],\n",
       " [],\n",
       " [],\n",
       " [],\n",
       " [],\n",
       " [],\n",
       " [],\n",
       " [],\n",
       " [],\n",
       " [],\n",
       " [],\n",
       " [],\n",
       " [],\n",
       " [],\n",
       " [],\n",
       " [],\n",
       " [],\n",
       " [],\n",
       " [],\n",
       " [],\n",
       " [],\n",
       " [],\n",
       " [],\n",
       " [],\n",
       " [],\n",
       " [],\n",
       " [],\n",
       " [],\n",
       " [],\n",
       " [],\n",
       " [],\n",
       " [],\n",
       " [],\n",
       " [],\n",
       " [],\n",
       " [],\n",
       " [],\n",
       " [],\n",
       " [],\n",
       " [],\n",
       " [],\n",
       " [],\n",
       " [],\n",
       " [],\n",
       " [],\n",
       " [],\n",
       " [],\n",
       " [],\n",
       " [],\n",
       " [],\n",
       " []]"
      ]
     },
     "execution_count": 65,
     "metadata": {},
     "output_type": "execute_result"
    }
   ],
   "source": [
    "tb.arr"
   ]
  },
  {
   "cell_type": "code",
   "execution_count": null,
   "id": "3bd5d790",
   "metadata": {},
   "outputs": [],
   "source": []
  }
 ],
 "metadata": {
  "kernelspec": {
   "display_name": "Python 3 (ipykernel)",
   "language": "python",
   "name": "python3"
  },
  "language_info": {
   "codemirror_mode": {
    "name": "ipython",
    "version": 3
   },
   "file_extension": ".py",
   "mimetype": "text/x-python",
   "name": "python",
   "nbconvert_exporter": "python",
   "pygments_lexer": "ipython3",
   "version": "3.11.5"
  }
 },
 "nbformat": 4,
 "nbformat_minor": 5
}
