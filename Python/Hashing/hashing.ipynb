{
 "cells": [
  {
   "cell_type": "markdown",
   "id": "b7a936ab",
   "metadata": {},
   "source": [
    "## Array Operation"
   ]
  },
  {
   "cell_type": "markdown",
   "id": "5f94ae1c",
   "metadata": {},
   "source": [
    "#### Importing, spliting"
   ]
  },
  {
   "cell_type": "code",
   "execution_count": 1,
   "id": "484403ea",
   "metadata": {},
   "outputs": [],
   "source": [
    "stock_prices = []\n",
    "with open(\"stock_prices.csv\", \"r\") as f:  # Reading csv file.\n",
    "    for line in f:\n",
    "        tokens = line.split(',')\n",
    "        day = tokens[0]\n",
    "        price = float(tokens[1])\n",
    "        stock_prices.append([day, price])"
   ]
  },
  {
   "cell_type": "code",
   "execution_count": 2,
   "id": "29987906",
   "metadata": {},
   "outputs": [
    {
     "data": {
      "text/plain": [
       "[['march 6', 310.0],\n",
       " ['march 7', 340.0],\n",
       " ['march 8', 380.0],\n",
       " ['march 9', 302.0],\n",
       " ['march 10', 297.0],\n",
       " ['march 11', 323.0]]"
      ]
     },
     "execution_count": 2,
     "metadata": {},
     "output_type": "execute_result"
    }
   ],
   "source": [
    "stock_prices"
   ]
  },
  {
   "cell_type": "markdown",
   "id": "d804068d",
   "metadata": {},
   "source": [
    "Datas from csv file are stored as a list. "
   ]
  },
  {
   "cell_type": "markdown",
   "id": "76e7145d",
   "metadata": {},
   "source": [
    "#### Searching "
   ]
  },
  {
   "cell_type": "code",
   "execution_count": 3,
   "id": "c3362cfe",
   "metadata": {},
   "outputs": [
    {
     "name": "stdout",
     "output_type": "stream",
     "text": [
      "302.0\n"
     ]
    }
   ],
   "source": [
    "for element in stock_prices:\n",
    "    if element[0] == 'march 9':\n",
    "        print(element[1])"
   ]
  },
  {
   "cell_type": "markdown",
   "id": "2c502aff",
   "metadata": {},
   "source": [
    "This operation's complexity is O(n).\n",
    "If the csv file is very big then the above searching operation is not efficient. "
   ]
  },
  {
   "cell_type": "markdown",
   "id": "1fd82c3a",
   "metadata": {},
   "source": [
    "## Dictionary"
   ]
  },
  {
   "cell_type": "markdown",
   "id": "782e6f83",
   "metadata": {},
   "source": [
    "Making \"stock_price\" as dictionary."
   ]
  },
  {
   "cell_type": "code",
   "execution_count": 7,
   "id": "0bda1eb8",
   "metadata": {},
   "outputs": [],
   "source": [
    "stock_prices = {}\n",
    "with open(\"stock_prices.csv\", \"r\") as f:  # Reading csv file.\n",
    "    for line in f:\n",
    "        tokens = line.split(',')\n",
    "        day = tokens[0]\n",
    "        price = float(tokens[1])\n",
    "        stock_prices[day] = price"
   ]
  },
  {
   "cell_type": "code",
   "execution_count": 8,
   "id": "0adfc143",
   "metadata": {},
   "outputs": [
    {
     "data": {
      "text/plain": [
       "{'march 6': 310.0,\n",
       " 'march 7': 340.0,\n",
       " 'march 8': 380.0,\n",
       " 'march 9': 302.0,\n",
       " 'march 10': 297.0,\n",
       " 'march 11': 323.0}"
      ]
     },
     "execution_count": 8,
     "metadata": {},
     "output_type": "execute_result"
    }
   ],
   "source": [
    "stock_prices"
   ]
  },
  {
   "cell_type": "markdown",
   "id": "f389d8a3",
   "metadata": {},
   "source": [
    "#### Searching."
   ]
  },
  {
   "cell_type": "code",
   "execution_count": 6,
   "id": "27fc52dd",
   "metadata": {},
   "outputs": [
    {
     "data": {
      "text/plain": [
       "302.0"
      ]
     },
     "execution_count": 6,
     "metadata": {},
     "output_type": "execute_result"
    }
   ],
   "source": [
    "stock_prices['march 9']"
   ]
  },
  {
   "cell_type": "markdown",
   "id": "57c6933a",
   "metadata": {},
   "source": [
    "Now, this operation's complexity is O(1).\n",
    "\n",
    "This process is called # Hashing "
   ]
  }
 ],
 "metadata": {
  "kernelspec": {
   "display_name": "Python 3 (ipykernel)",
   "language": "python",
   "name": "python3"
  },
  "language_info": {
   "codemirror_mode": {
    "name": "ipython",
    "version": 3
   },
   "file_extension": ".py",
   "mimetype": "text/x-python",
   "name": "python",
   "nbconvert_exporter": "python",
   "pygments_lexer": "ipython3",
   "version": "3.11.5"
  }
 },
 "nbformat": 4,
 "nbformat_minor": 5
}
