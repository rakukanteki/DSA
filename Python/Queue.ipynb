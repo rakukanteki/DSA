{
 "cells": [
  {
   "cell_type": "markdown",
   "id": "be94b568",
   "metadata": {},
   "source": [
    "### List as a Queue\n"
   ]
  },
  {
   "cell_type": "code",
   "execution_count": 1,
   "id": "3787786d",
   "metadata": {},
   "outputs": [],
   "source": [
    "stock_price = []"
   ]
  },
  {
   "cell_type": "code",
   "execution_count": 2,
   "id": "a7c6276c",
   "metadata": {},
   "outputs": [],
   "source": [
    "stock_price.insert(0, 131.10)\n",
    "stock_price.insert(0, 132.2)\n",
    "stock_price.insert(0, 130)"
   ]
  },
  {
   "cell_type": "code",
   "execution_count": 3,
   "id": "ae37620e",
   "metadata": {},
   "outputs": [
    {
     "data": {
      "text/plain": [
       "[130, 132.2, 131.1]"
      ]
     },
     "execution_count": 3,
     "metadata": {},
     "output_type": "execute_result"
    }
   ],
   "source": [
    "stock_price"
   ]
  },
  {
   "cell_type": "markdown",
   "id": "f0f611df",
   "metadata": {},
   "source": [
    "First In First Out"
   ]
  },
  {
   "cell_type": "code",
   "execution_count": 4,
   "id": "4c7c49bb",
   "metadata": {},
   "outputs": [
    {
     "data": {
      "text/plain": [
       "131.1"
      ]
     },
     "execution_count": 4,
     "metadata": {},
     "output_type": "execute_result"
    }
   ],
   "source": [
    "stock_price.pop()"
   ]
  },
  {
   "cell_type": "code",
   "execution_count": 6,
   "id": "420c0adb",
   "metadata": {},
   "outputs": [
    {
     "data": {
      "text/plain": [
       "132.2"
      ]
     },
     "execution_count": 6,
     "metadata": {},
     "output_type": "execute_result"
    }
   ],
   "source": [
    "stock_price.pop()"
   ]
  },
  {
   "cell_type": "code",
   "execution_count": 7,
   "id": "051a96f6",
   "metadata": {},
   "outputs": [
    {
     "data": {
      "text/plain": [
       "130"
      ]
     },
     "execution_count": 7,
     "metadata": {},
     "output_type": "execute_result"
    }
   ],
   "source": [
    "stock_price.pop()"
   ]
  },
  {
   "cell_type": "code",
   "execution_count": 8,
   "id": "2bb5b5a1",
   "metadata": {},
   "outputs": [
    {
     "ename": "IndexError",
     "evalue": "pop from empty list",
     "output_type": "error",
     "traceback": [
      "\u001b[1;31m---------------------------------------------------------------------------\u001b[0m",
      "\u001b[1;31mIndexError\u001b[0m                                Traceback (most recent call last)",
      "Cell \u001b[1;32mIn[8], line 1\u001b[0m\n\u001b[1;32m----> 1\u001b[0m stock_price\u001b[38;5;241m.\u001b[39mpop()\n",
      "\u001b[1;31mIndexError\u001b[0m: pop from empty list"
     ]
    }
   ],
   "source": [
    "stock_price.pop()"
   ]
  },
  {
   "cell_type": "markdown",
   "id": "c6e65da2",
   "metadata": {},
   "source": [
    "### Deque as Queue"
   ]
  },
  {
   "cell_type": "code",
   "execution_count": 10,
   "id": "2d67312c",
   "metadata": {},
   "outputs": [],
   "source": [
    "from collections import deque\n",
    "q = deque()"
   ]
  },
  {
   "cell_type": "code",
   "execution_count": 11,
   "id": "43ef7d9c",
   "metadata": {},
   "outputs": [],
   "source": [
    "q.append(10) # First In.\n",
    "q.append(20)\n",
    "q.append(30)\n",
    "q.append(40)\n",
    "q.append(50)"
   ]
  },
  {
   "cell_type": "code",
   "execution_count": 12,
   "id": "a9472bd9",
   "metadata": {},
   "outputs": [
    {
     "data": {
      "text/plain": [
       "50"
      ]
     },
     "execution_count": 12,
     "metadata": {},
     "output_type": "execute_result"
    }
   ],
   "source": [
    "q.pop()"
   ]
  },
  {
   "cell_type": "markdown",
   "id": "2b21f9ba",
   "metadata": {},
   "source": [
    "## Creating proper queue classes"
   ]
  },
  {
   "cell_type": "code",
   "execution_count": 26,
   "id": "c3f88613",
   "metadata": {},
   "outputs": [],
   "source": [
    "from collections import deque\n",
    "\n",
    "class Queue:\n",
    "    \n",
    "    def __init__(self):\n",
    "        self.buffer = deque()  # buffer is an object. An instance of deque()\n",
    "    \n",
    "    def enqueue(self, value):\n",
    "        self.buffer.appendleft(value)\n",
    "        \n",
    "    def dequeue(self):\n",
    "        return self.buffer.pop()\n",
    "    \n",
    "    def is_empty(self):\n",
    "        return len(self.buffer) == 0\n",
    "    \n",
    "    def size(self):\n",
    "        return len(self.buffer)"
   ]
  },
  {
   "cell_type": "markdown",
   "id": "b2068356",
   "metadata": {},
   "source": [
    "## Inserting values."
   ]
  },
  {
   "cell_type": "code",
   "execution_count": 27,
   "id": "59df7199",
   "metadata": {},
   "outputs": [],
   "source": [
    "pq = Queue()\n",
    "\n",
    "pq.enqueue({\n",
    "    'company': 'Wal Mart',\n",
    "    'timestamp': '15 April, 11:01 AM',\n",
    "    'price': 131.1\n",
    "})\n",
    "\n",
    "pq.enqueue({\n",
    "    'company': 'Wal Mart',\n",
    "    'timestamp': '15 April, 11:02 AM',\n",
    "    'price': 1351.1\n",
    "})\n",
    "\n",
    "pq.enqueue({\n",
    "    'company': 'Wal Mart',\n",
    "    'timestamp': '15 April, 11:03 AM',\n",
    "    'price': 1200\n",
    "})"
   ]
  },
  {
   "cell_type": "code",
   "execution_count": 28,
   "id": "5dea0d8a",
   "metadata": {},
   "outputs": [
    {
     "data": {
      "text/plain": [
       "deque([{'company': 'Wal Mart',\n",
       "        'timestamp': '15 April, 11:03 AM',\n",
       "        'price': 1200},\n",
       "       {'company': 'Wal Mart',\n",
       "        'timestamp': '15 April, 11:02 AM',\n",
       "        'price': 1351.1},\n",
       "       {'company': 'Wal Mart',\n",
       "        'timestamp': '15 April, 11:01 AM',\n",
       "        'price': 131.1}])"
      ]
     },
     "execution_count": 28,
     "metadata": {},
     "output_type": "execute_result"
    }
   ],
   "source": [
    "pq.buffer"
   ]
  },
  {
   "cell_type": "code",
   "execution_count": 29,
   "id": "5c3ec410",
   "metadata": {},
   "outputs": [
    {
     "data": {
      "text/plain": [
       "deque([{'company': 'Wal Mart',\n",
       "        'timestamp': '15 April, 11:03 AM',\n",
       "        'price': 1200},\n",
       "       {'company': 'Wal Mart',\n",
       "        'timestamp': '15 April, 11:02 AM',\n",
       "        'price': 1351.1},\n",
       "       {'company': 'Wal Mart',\n",
       "        'timestamp': '15 April, 11:01 AM',\n",
       "        'price': 131.1}])"
      ]
     },
     "execution_count": 29,
     "metadata": {},
     "output_type": "execute_result"
    }
   ],
   "source": [
    "pq.buffer"
   ]
  },
  {
   "cell_type": "code",
   "execution_count": 30,
   "id": "4c6d0516",
   "metadata": {},
   "outputs": [
    {
     "data": {
      "text/plain": [
       "{'company': 'Wal Mart', 'timestamp': '15 April, 11:01 AM', 'price': 131.1}"
      ]
     },
     "execution_count": 30,
     "metadata": {},
     "output_type": "execute_result"
    }
   ],
   "source": [
    "pq.dequeue()"
   ]
  },
  {
   "cell_type": "markdown",
   "id": "7f98feb7",
   "metadata": {},
   "source": [
    "Ref: https://www.bigocheatsheet.com/"
   ]
  },
  {
   "cell_type": "code",
   "execution_count": null,
   "id": "2784729c",
   "metadata": {},
   "outputs": [],
   "source": []
  }
 ],
 "metadata": {
  "kernelspec": {
   "display_name": "Python 3 (ipykernel)",
   "language": "python",
   "name": "python3"
  },
  "language_info": {
   "codemirror_mode": {
    "name": "ipython",
    "version": 3
   },
   "file_extension": ".py",
   "mimetype": "text/x-python",
   "name": "python",
   "nbconvert_exporter": "python",
   "pygments_lexer": "ipython3",
   "version": "3.11.5"
  }
 },
 "nbformat": 4,
 "nbformat_minor": 5
}
